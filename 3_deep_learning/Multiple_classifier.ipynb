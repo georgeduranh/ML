{
  "nbformat": 4,
  "nbformat_minor": 0,
  "metadata": {
    "colab": {
      "provenance": [],
      "authorship_tag": "ABX9TyMP2Su8XGfkVw+afn0CR2jO",
      "include_colab_link": true
    },
    "kernelspec": {
      "name": "python3",
      "display_name": "Python 3"
    },
    "language_info": {
      "name": "python"
    }
  },
  "cells": [
    {
      "cell_type": "markdown",
      "metadata": {
        "id": "view-in-github",
        "colab_type": "text"
      },
      "source": [
        "<a href=\"https://colab.research.google.com/github/georgeduranh/ML/blob/main/3_deep_learning/Multiple_classifier.ipynb\" target=\"_parent\"><img src=\"https://colab.research.google.com/assets/colab-badge.svg\" alt=\"Open In Colab\"/></a>"
      ]
    },
    {
      "cell_type": "code",
      "execution_count": null,
      "metadata": {
        "id": "U1XgC7F2VKCs"
      },
      "outputs": [],
      "source": [
        "import numpy as np\n",
        "from keras.datasets import reuters\n",
        "from keras import models, layers, optimizers\n",
        "import matplotlib.pyplot as plt\n",
        "\n",
        "from keras import regularizers\n",
        "from keras.utils import to_categorical\n"
      ]
    },
    {
      "cell_type": "code",
      "source": [
        "(train_data, train_labels ), (test_data, test_labels)=  reuters.load_data(num_words=10000)"
      ],
      "metadata": {
        "colab": {
          "base_uri": "https://localhost:8080/"
        },
        "id": "yJ3bgFcpVQ_E",
        "outputId": "08c8d942-8338-4c55-842e-51b56cdf5d82"
      },
      "execution_count": null,
      "outputs": [
        {
          "output_type": "stream",
          "name": "stdout",
          "text": [
            "Downloading data from https://storage.googleapis.com/tensorflow/tf-keras-datasets/reuters.npz\n",
            "2110848/2110848 [==============================] - 0s 0us/step\n"
          ]
        }
      ]
    },
    {
      "cell_type": "code",
      "source": [
        "word_index = reuters.get_word_index()\n",
        "word_index=  dict([(value,key) for (key,value) in word_index.items()])\n",
        "\n",
        "for _ in train_data[0]:\n",
        "  print(word_index.get(_-3))"
      ],
      "metadata": {
        "colab": {
          "base_uri": "https://localhost:8080/"
        },
        "id": "Pgr9Vj_DbNxt",
        "outputId": "47384d95-5c9f-4ef6-9ead-bb62abeb2afb"
      },
      "execution_count": null,
      "outputs": [
        {
          "output_type": "stream",
          "name": "stdout",
          "text": [
            "Downloading data from https://storage.googleapis.com/tensorflow/tf-keras-datasets/reuters_word_index.json\n",
            "550378/550378 [==============================] - 0s 0us/step\n",
            "None\n",
            "None\n",
            "None\n",
            "said\n",
            "as\n",
            "a\n",
            "result\n",
            "of\n",
            "its\n",
            "december\n",
            "acquisition\n",
            "of\n",
            "space\n",
            "co\n",
            "it\n",
            "expects\n",
            "earnings\n",
            "per\n",
            "share\n",
            "in\n",
            "1987\n",
            "of\n",
            "1\n",
            "15\n",
            "to\n",
            "1\n",
            "30\n",
            "dlrs\n",
            "per\n",
            "share\n",
            "up\n",
            "from\n",
            "70\n",
            "cts\n",
            "in\n",
            "1986\n",
            "the\n",
            "company\n",
            "said\n",
            "pretax\n",
            "net\n",
            "should\n",
            "rise\n",
            "to\n",
            "nine\n",
            "to\n",
            "10\n",
            "mln\n",
            "dlrs\n",
            "from\n",
            "six\n",
            "mln\n",
            "dlrs\n",
            "in\n",
            "1986\n",
            "and\n",
            "rental\n",
            "operation\n",
            "revenues\n",
            "to\n",
            "19\n",
            "to\n",
            "22\n",
            "mln\n",
            "dlrs\n",
            "from\n",
            "12\n",
            "5\n",
            "mln\n",
            "dlrs\n",
            "it\n",
            "said\n",
            "cash\n",
            "flow\n",
            "per\n",
            "share\n",
            "this\n",
            "year\n",
            "should\n",
            "be\n",
            "2\n",
            "50\n",
            "to\n",
            "three\n",
            "dlrs\n",
            "reuter\n",
            "3\n"
          ]
        }
      ]
    },
    {
      "cell_type": "code",
      "source": [
        "test_labels[0]"
      ],
      "metadata": {
        "colab": {
          "base_uri": "https://localhost:8080/"
        },
        "id": "4P0Wer2XbRtM",
        "outputId": "08eef5b5-9eed-4cb6-9f89-7402087a4ecd"
      },
      "execution_count": null,
      "outputs": [
        {
          "output_type": "execute_result",
          "data": {
            "text/plain": [
              "3"
            ]
          },
          "metadata": {},
          "execution_count": 6
        }
      ]
    },
    {
      "cell_type": "code",
      "source": [
        "train_data.shape"
      ],
      "metadata": {
        "colab": {
          "base_uri": "https://localhost:8080/"
        },
        "id": "aVg__IJObktz",
        "outputId": "dfb4e1c3-fb5a-4601-bc4e-9fb9e8e8ee4a"
      },
      "execution_count": null,
      "outputs": [
        {
          "output_type": "execute_result",
          "data": {
            "text/plain": [
              "(8982,)"
            ]
          },
          "metadata": {},
          "execution_count": 8
        }
      ]
    },
    {
      "cell_type": "code",
      "source": [
        "# Keras\n",
        "#Vectorization --> one hot encoding  to use this data with Keras\n",
        "\n",
        "def vectorizar(sequences, dim=10000):\n",
        "    restults = np.zeros((len(sequences),dim))\n",
        "    for i, sequences in enumerate(sequences):\n",
        "        restults[i,sequences]=1\n",
        "    return restults \n",
        "\n",
        "\n",
        "x_train = vectorizar(train_data)\n",
        "x_test = vectorizar(test_data)"
      ],
      "metadata": {
        "id": "B426hq7dbo7k"
      },
      "execution_count": null,
      "outputs": []
    },
    {
      "cell_type": "code",
      "source": [
        "y_train = to_categorical(train_labels)\n",
        "y_test = to_categorical(test_labels)"
      ],
      "metadata": {
        "id": "D6ftKHWPbw8c"
      },
      "execution_count": null,
      "outputs": []
    },
    {
      "cell_type": "code",
      "source": [
        "##Model\n",
        "\n",
        "model = models.Sequential()\n",
        "model.add(layers.Dense(64, activation='relu', input_shape=(10000,)))\n",
        "model.add(layers.Dropout(0.5))\n",
        "\n",
        "model.add(layers.Dense(64, activation='relu'))\n",
        "model.add(layers.Dropout(0.5))\n",
        "\n",
        "model.add(layers.Dense(46, activation='softmax'))\n",
        "\n"
      ],
      "metadata": {
        "id": "6tMtq6ZrcIs8"
      },
      "execution_count": null,
      "outputs": []
    },
    {
      "cell_type": "code",
      "source": [
        "model.compile(\n",
        "    optimizer='adam',\n",
        "    loss = 'categorical_crossentropy',\n",
        "    metrics = ['acc'],\n",
        "    run_eagerly=True\n",
        ")"
      ],
      "metadata": {
        "id": "5xJBqNN1c34l"
      },
      "execution_count": null,
      "outputs": []
    },
    {
      "cell_type": "code",
      "source": [
        "x_val = x_train[:1000]\n",
        "partial_x_train = x_train[1000:]\n",
        "\n",
        "y_val = y_train[:1000]\n",
        "partial_y_train =  y_train[1000:]"
      ],
      "metadata": {
        "id": "Ms0VGWzJdXPe"
      },
      "execution_count": null,
      "outputs": []
    },
    {
      "cell_type": "code",
      "source": [
        "#saving data\n",
        "history = model.fit(partial_x_train,\n",
        "                   partial_y_train,\n",
        "                   epochs=20,\n",
        "                   batch_size=512,\n",
        "                   validation_data=(x_val,y_val))"
      ],
      "metadata": {
        "colab": {
          "base_uri": "https://localhost:8080/"
        },
        "id": "ZgheSBBgdepT",
        "outputId": "b43b07e2-faa3-4ed2-8a56-2c0874355e35"
      },
      "execution_count": null,
      "outputs": [
        {
          "output_type": "stream",
          "name": "stdout",
          "text": [
            "Epoch 1/20\n",
            "16/16 [==============================] - 1s 86ms/step - loss: 3.4764 - acc: 0.2598 - val_loss: 2.7990 - val_acc: 0.5300\n",
            "Epoch 2/20\n",
            "16/16 [==============================] - 1s 86ms/step - loss: 2.5192 - acc: 0.4562 - val_loss: 1.8576 - val_acc: 0.5620\n",
            "Epoch 3/20\n",
            "16/16 [==============================] - 1s 77ms/step - loss: 1.9459 - acc: 0.5388 - val_loss: 1.5863 - val_acc: 0.6270\n",
            "Epoch 4/20\n",
            "16/16 [==============================] - 1s 83ms/step - loss: 1.6635 - acc: 0.5936 - val_loss: 1.4183 - val_acc: 0.6690\n",
            "Epoch 5/20\n",
            "16/16 [==============================] - 1s 82ms/step - loss: 1.5077 - acc: 0.6401 - val_loss: 1.3122 - val_acc: 0.7050\n",
            "Epoch 6/20\n",
            "16/16 [==============================] - 1s 76ms/step - loss: 1.3776 - acc: 0.6715 - val_loss: 1.2293 - val_acc: 0.7280\n",
            "Epoch 7/20\n",
            "16/16 [==============================] - 1s 86ms/step - loss: 1.2628 - acc: 0.6981 - val_loss: 1.1688 - val_acc: 0.7340\n",
            "Epoch 8/20\n",
            "16/16 [==============================] - 1s 75ms/step - loss: 1.1719 - acc: 0.7177 - val_loss: 1.1119 - val_acc: 0.7550\n",
            "Epoch 9/20\n",
            "16/16 [==============================] - 1s 77ms/step - loss: 1.0887 - acc: 0.7365 - val_loss: 1.0772 - val_acc: 0.7600\n",
            "Epoch 10/20\n",
            "16/16 [==============================] - 1s 75ms/step - loss: 1.0326 - acc: 0.7544 - val_loss: 1.0500 - val_acc: 0.7690\n",
            "Epoch 11/20\n",
            "16/16 [==============================] - 1s 80ms/step - loss: 0.9641 - acc: 0.7657 - val_loss: 1.0250 - val_acc: 0.7740\n",
            "Epoch 12/20\n",
            "16/16 [==============================] - 1s 81ms/step - loss: 0.9262 - acc: 0.7714 - val_loss: 1.0070 - val_acc: 0.7820\n",
            "Epoch 13/20\n",
            "16/16 [==============================] - 1s 82ms/step - loss: 0.8595 - acc: 0.7870 - val_loss: 0.9969 - val_acc: 0.7850\n",
            "Epoch 14/20\n",
            "16/16 [==============================] - 1s 83ms/step - loss: 0.8274 - acc: 0.7937 - val_loss: 0.9880 - val_acc: 0.7880\n",
            "Epoch 15/20\n",
            "16/16 [==============================] - 1s 80ms/step - loss: 0.7814 - acc: 0.8024 - val_loss: 0.9789 - val_acc: 0.7960\n",
            "Epoch 16/20\n",
            "16/16 [==============================] - 1s 83ms/step - loss: 0.7508 - acc: 0.8067 - val_loss: 0.9752 - val_acc: 0.7980\n",
            "Epoch 17/20\n",
            "16/16 [==============================] - 1s 81ms/step - loss: 0.7323 - acc: 0.8103 - val_loss: 0.9678 - val_acc: 0.8010\n",
            "Epoch 18/20\n",
            "16/16 [==============================] - 1s 84ms/step - loss: 0.6936 - acc: 0.8198 - val_loss: 0.9734 - val_acc: 0.8020\n",
            "Epoch 19/20\n",
            "16/16 [==============================] - 1s 79ms/step - loss: 0.6801 - acc: 0.8193 - val_loss: 0.9780 - val_acc: 0.8070\n",
            "Epoch 20/20\n",
            "16/16 [==============================] - 1s 92ms/step - loss: 0.6361 - acc: 0.8351 - val_loss: 0.9909 - val_acc: 0.8050\n"
          ]
        }
      ]
    },
    {
      "cell_type": "code",
      "source": [
        "#results\n",
        "history_dict = history.history\n",
        "loss_values = history_dict['loss']\n",
        "loss_values_2 = history_dict['val_loss']\n",
        "\n",
        "epoch = range (1, len(loss_values)+1)\n",
        "\n",
        "fig = plt.figure(figsize=(10,10))\n",
        "plt.plot(epoch, loss_values, 'o', label = 'Training')\n",
        "plt.plot(epoch, loss_values_2, '--', label = 'Validation')\n",
        "plt.legend()\n",
        "plt.show()"
      ],
      "metadata": {
        "colab": {
          "base_uri": "https://localhost:8080/",
          "height": 592
        },
        "id": "Yj3rX9oIeAG7",
        "outputId": "60af125d-4f1b-4866-9d55-65a13ca520c8"
      },
      "execution_count": null,
      "outputs": [
        {
          "output_type": "display_data",
          "data": {
            "text/plain": [
              "<Figure size 720x720 with 1 Axes>"
            ],
            "image/png": "[encoded data removed]"
          },
          "metadata": {
            "needs_background": "light"
          }
        }
      ]
    },
    {
      "cell_type": "code",
      "source": [
        "#results\n",
        "\n",
        "acc_values = history_dict['acc']\n",
        "acc_values_2 = history_dict['val_acc']\n",
        "\n",
        "epoch = range (1, len(loss_values)+1)\n",
        "\n",
        "fig = plt.figure(figsize=(10,10))\n",
        "plt.plot(epoch, acc_values, 'o', label = 'Training')\n",
        "plt.plot(epoch, acc_values_2, '--', label = 'Validation')\n",
        "plt.legend()\n",
        "plt.show()"
      ],
      "metadata": {
        "colab": {
          "base_uri": "https://localhost:8080/",
          "height": 592
        },
        "id": "T4aLzYpBfEB6",
        "outputId": "ff9af820-c64a-4c44-c4fb-134e74725416"
      },
      "execution_count": null,
      "outputs": [
        {
          "output_type": "display_data",
          "data": {
            "text/plain": [
              "<Figure size 720x720 with 1 Axes>"
            ],
            "image/png": "[encoded data removed]"
          },
          "metadata": {
            "needs_background": "light"
          }
        }
      ]
    },
    {
      "cell_type": "code",
      "source": [
        "model.evaluate(x_test, y_test)"
      ],
      "metadata": {
        "colab": {
          "base_uri": "https://localhost:8080/"
        },
        "id": "hNWao6FvfpR-",
        "outputId": "ee1cc681-5021-4b7c-ccf1-39e5ac56e1ae"
      },
      "execution_count": null,
      "outputs": [
        {
          "output_type": "stream",
          "name": "stdout",
          "text": [
            "71/71 [==============================] - 2s 22ms/step - loss: 0.9909 - acc: 0.7881\n"
          ]
        },
        {
          "output_type": "execute_result",
          "data": {
            "text/plain": [
              "[0.990915060043335, 0.7880676984786987]"
            ]
          },
          "metadata": {},
          "execution_count": 36
        }
      ]
    },
    {
      "cell_type": "code",
      "source": [
        "predictions = model.predict(x_test)"
      ],
      "metadata": {
        "colab": {
          "base_uri": "https://localhost:8080/"
        },
        "id": "2AM9PFR5gcIv",
        "outputId": "3028d874-aeb0-429c-f258-da9e0acfaed1"
      },
      "execution_count": null,
      "outputs": [
        {
          "output_type": "stream",
          "name": "stdout",
          "text": [
            "71/71 [==============================] - 1s 12ms/step\n"
          ]
        }
      ]
    },
    {
      "cell_type": "code",
      "source": [
        "np.sum(predictions[0])"
      ],
      "metadata": {
        "colab": {
          "base_uri": "https://localhost:8080/"
        },
        "id": "epLYW67GgddA",
        "outputId": "7e558951-5d25-49fd-8842-06d75c1cfe3d"
      },
      "execution_count": null,
      "outputs": [
        {
          "output_type": "execute_result",
          "data": {
            "text/plain": [
              "1.0000001"
            ]
          },
          "metadata": {},
          "execution_count": 38
        }
      ]
    },
    {
      "cell_type": "code",
      "source": [
        "np.argmax(predictions[0])"
      ],
      "metadata": {
        "colab": {
          "base_uri": "https://localhost:8080/"
        },
        "id": "ql2VjQ3SgrJ_",
        "outputId": "816d0a16-aa8c-4351-d557-3943a2830c47"
      },
      "execution_count": null,
      "outputs": [
        {
          "output_type": "execute_result",
          "data": {
            "text/plain": [
              "3"
            ]
          },
          "metadata": {},
          "execution_count": 39
        }
      ]
    },
    {
      "cell_type": "code",
      "source": [],
      "metadata": {
        "id": "2wQiK3zWgxP4"
      },
      "execution_count": null,
      "outputs": []
    }
  ]
}