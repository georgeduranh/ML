{
  "nbformat": 4,
  "nbformat_minor": 0,
  "metadata": {
    "colab": {
      "provenance": [],
      "authorship_tag": "ABX9TyNkePQm2CHYu0uIX1QzGb0U",
      "include_colab_link": true
    },
    "kernelspec": {
      "name": "python3",
      "display_name": "Python 3"
    },
    "language_info": {
      "name": "python"
    },
    "accelerator": "GPU",
    "gpuClass": "standard"
  },
  "cells": [
    {
      "cell_type": "markdown",
      "metadata": {
        "id": "view-in-github",
        "colab_type": "text"
      },
      "source": [
        "<a href=\"https://colab.research.google.com/github/georgeduranh/ML/blob/main/3_deep_learning/linear_regression.ipynb\" target=\"_parent\"><img src=\"https://colab.research.google.com/assets/colab-badge.svg\" alt=\"Open In Colab\"/></a>"
      ]
    },
    {
      "cell_type": "code",
      "execution_count": 1,
      "metadata": {
        "id": "pHVvlE9mHzwC"
      },
      "outputs": [],
      "source": [
        "import numpy as np\n",
        "import pandas as pd\n",
        "\n",
        "from keras.datasets import boston_housing\n",
        "from keras import layers, models, optimizers\n"
      ]
    },
    {
      "cell_type": "code",
      "source": [
        "(train_data, train_labels), (test_data, test_labels) = boston_housing.load_data()"
      ],
      "metadata": {
        "colab": {
          "base_uri": "https://localhost:8080/"
        },
        "id": "9S3BeBy8H_M8",
        "outputId": "62b45c3d-b1f9-4781-a1c3-b6a0f2deba94"
      },
      "execution_count": 2,
      "outputs": [
        {
          "output_type": "stream",
          "name": "stdout",
          "text": [
            "Downloading data from https://storage.googleapis.com/tensorflow/tf-keras-datasets/boston_housing.npz\n",
            "57026/57026 [==============================] - 0s 0us/step\n"
          ]
        }
      ]
    },
    {
      "cell_type": "code",
      "source": [
        "train_data.shape"
      ],
      "metadata": {
        "colab": {
          "base_uri": "https://localhost:8080/"
        },
        "id": "NVxl89k0IR4j",
        "outputId": "e3e30096-98a3-452e-dd06-8ecc86634cc1"
      },
      "execution_count": 3,
      "outputs": [
        {
          "output_type": "execute_result",
          "data": {
            "text/plain": [
              "(404, 13)"
            ]
          },
          "metadata": {},
          "execution_count": 3
        }
      ]
    },
    {
      "cell_type": "code",
      "source": [
        "train_labels.shape"
      ],
      "metadata": {
        "colab": {
          "base_uri": "https://localhost:8080/"
        },
        "id": "fdKEnAR8IUk8",
        "outputId": "340e75f6-8548-4677-f574-f37ccb793d21"
      },
      "execution_count": 4,
      "outputs": [
        {
          "output_type": "execute_result",
          "data": {
            "text/plain": [
              "(404,)"
            ]
          },
          "metadata": {},
          "execution_count": 4
        }
      ]
    },
    {
      "cell_type": "markdown",
      "source": [
        "Normalization"
      ],
      "metadata": {
        "id": "XX4LrX5LIuJK"
      }
    },
    {
      "cell_type": "code",
      "source": [
        "mean = train_data.mean(axis=0)\n",
        "train_data = train_data - mean\n",
        "std = train_data.std(axis=0)\n",
        "train_data = train_data  / std"
      ],
      "metadata": {
        "id": "ymST3AqnIYl7"
      },
      "execution_count": 7,
      "outputs": []
    },
    {
      "cell_type": "code",
      "source": [
        "test_data = test_data - mean\n",
        "test_data = test_data  / std"
      ],
      "metadata": {
        "id": "KwZnUb7aI428"
      },
      "execution_count": 8,
      "outputs": []
    },
    {
      "cell_type": "code",
      "source": [
        "def build_model_regression(lr, input_data):\n",
        "  model = models.Sequential()\n",
        "  model.add(layers.Dense(64, activation ='relu', input_shape=input_data))\n",
        "  model.add(layers.Dense(64, activation='relu'))\n",
        "  model.add(layers.Dense(1))\n",
        "\n",
        "  model.compile(\n",
        "      optimizer= optimizers.RMSprop(lr=lr),\n",
        "      loss = 'mse',\n",
        "      metrics = ['mae']\n",
        "  )\n",
        "\n",
        "  return model"
      ],
      "metadata": {
        "id": "CB6aBe7JJAAa"
      },
      "execution_count": 10,
      "outputs": []
    },
    {
      "cell_type": "code",
      "source": [
        "k = 4\n",
        "num_val_samples = len(train_data)// k\n",
        "num_epochs = 80\n",
        "all_histories = [] "
      ],
      "metadata": {
        "id": "tXO9PRRUKwCa"
      },
      "execution_count": 11,
      "outputs": []
    },
    {
      "cell_type": "code",
      "source": [
        "for i in range(4):\n",
        "  print('FOLD: ', i)\n",
        "\n",
        "  val_data = train_data[i*num_val_samples: (i+1)*num_val_samples]\n",
        "  val_targets = train_labels[i*num_val_samples: (i+1)*num_val_samples]\n",
        "\n",
        "  partial_train_data = np.concatenate([\n",
        "      train_data[: i*num_val_samples] , \n",
        "      train_data[(i+1)*num_val_samples:]\n",
        "  ], axis = 0)\n",
        "\n",
        "  partial_train_target = np.concatenate([\n",
        "      train_labels[: i*num_val_samples] , \n",
        "      train_labels[(i+1)*num_val_samples:]\n",
        "  ], axis = 0)\n",
        "\n",
        "  model =  build_model_regression (0.001, (13,))\n",
        "  history = model.fit(partial_train_data, partial_train_target,\n",
        "                        epochs = num_epochs,\n",
        "                        batch_size=16,\n",
        "                        validation_data= (val_data, val_targets),\n",
        "                        verbose = 0)\n",
        "  all_histories.append(history.history['val_mae'])"
      ],
      "metadata": {
        "colab": {
          "base_uri": "https://localhost:8080/"
        },
        "id": "1ATapeTYLtXS",
        "outputId": "c44b9526-afd9-498c-bb25-23c225faad35"
      },
      "execution_count": 17,
      "outputs": [
        {
          "output_type": "stream",
          "name": "stdout",
          "text": [
            "FOLD:  0\n",
            "FOLD:  1\n",
            "FOLD:  2\n",
            "FOLD:  3\n"
          ]
        }
      ]
    },
    {
      "cell_type": "code",
      "source": [],
      "metadata": {
        "id": "7OVZl5e_MtGZ"
      },
      "execution_count": null,
      "outputs": []
    }
  ]
}