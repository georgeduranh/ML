{
  "nbformat": 4,
  "nbformat_minor": 0,
  "metadata": {
    "colab": {
      "provenance": [],
      "authorship_tag": "ABX9TyMkW2tuF27czORekLtR72Zv",
      "include_colab_link": true
    },
    "kernelspec": {
      "name": "python3",
      "display_name": "Python 3"
    },
    "language_info": {
      "name": "python"
    },
    "accelerator": "GPU",
    "gpuClass": "standard"
  },
  "cells": [
    {
      "cell_type": "markdown",
      "metadata": {
        "id": "view-in-github",
        "colab_type": "text"
      },
      "source": [
        "<a href=\"https://colab.research.google.com/github/georgeduranh/ML/blob/main/3_deep_learning/binary_classifier.ipynb\" target=\"_parent\"><img src=\"https://colab.research.google.com/assets/colab-badge.svg\" alt=\"Open In Colab\"/></a>"
      ]
    },
    {
      "cell_type": "code",
      "execution_count": 1,
      "metadata": {
        "id": "IAC6miGiOk3J"
      },
      "outputs": [],
      "source": [
        "import numpy as np\n",
        "from keras.datasets import imdb\n",
        "from keras import models, layers, optimizers"
      ]
    },
    {
      "cell_type": "code",
      "source": [
        "(train_data, train_labels ), (test_data, test_labels)=  imdb.load_data(num_words=10000)"
      ],
      "metadata": {
        "colab": {
          "base_uri": "https://localhost:8080/"
        },
        "id": "404OUneraSbX",
        "outputId": "648da104-ee79-49d8-d80e-f43fe58e1512"
      },
      "execution_count": 2,
      "outputs": [
        {
          "output_type": "stream",
          "name": "stdout",
          "text": [
            "Downloading data from https://storage.googleapis.com/tensorflow/tf-keras-datasets/imdb.npz\n",
            "17464789/17464789 [==============================] - 0s 0us/step\n"
          ]
        }
      ]
    },
    {
      "cell_type": "code",
      "source": [
        "train_data.shape"
      ],
      "metadata": {
        "colab": {
          "base_uri": "https://localhost:8080/"
        },
        "id": "BDgkvF0hag99",
        "outputId": "9935ac44-de5a-4595-dba4-a9ee3da82f3d"
      },
      "execution_count": 3,
      "outputs": [
        {
          "output_type": "execute_result",
          "data": {
            "text/plain": [
              "(25000,)"
            ]
          },
          "metadata": {},
          "execution_count": 3
        }
      ]
    },
    {
      "cell_type": "code",
      "source": [
        "train_labels"
      ],
      "metadata": {
        "colab": {
          "base_uri": "https://localhost:8080/"
        },
        "id": "AR2w6fK0ak30",
        "outputId": "c4dd085e-5471-4df7-ca12-47be83036090"
      },
      "execution_count": 4,
      "outputs": [
        {
          "output_type": "execute_result",
          "data": {
            "text/plain": [
              "array([1, 0, 0, ..., 0, 1, 0])"
            ]
          },
          "metadata": {},
          "execution_count": 4
        }
      ]
    },
    {
      "cell_type": "code",
      "source": [
        "word_index = imdb.get_word_index()"
      ],
      "metadata": {
        "colab": {
          "base_uri": "https://localhost:8080/"
        },
        "id": "MG1uPgsDatUN",
        "outputId": "f9b7f68f-d58f-42fe-95f9-71a3b394c861"
      },
      "execution_count": 5,
      "outputs": [
        {
          "output_type": "stream",
          "name": "stdout",
          "text": [
            "Downloading data from https://storage.googleapis.com/tensorflow/tf-keras-datasets/imdb_word_index.json\n",
            "1641221/1641221 [==============================] - 0s 0us/step\n"
          ]
        }
      ]
    },
    {
      "cell_type": "code",
      "source": [
        "word_index=  dict([(value,key) for (key,value) in word_index.items()])"
      ],
      "metadata": {
        "id": "PKMVq0-Ka2x7"
      },
      "execution_count": 6,
      "outputs": []
    },
    {
      "cell_type": "code",
      "source": [
        "for _ in train_data[0]:\n",
        "  print(word_index.get(_-3))\n"
      ],
      "metadata": {
        "colab": {
          "base_uri": "https://localhost:8080/"
        },
        "id": "cd1pBir6a31r",
        "outputId": "eca5aaa4-018b-4081-8a30-11b349e78e08"
      },
      "execution_count": 7,
      "outputs": [
        {
          "output_type": "stream",
          "name": "stdout",
          "text": [
            "None\n",
            "this\n",
            "film\n",
            "was\n",
            "just\n",
            "brilliant\n",
            "casting\n",
            "location\n",
            "scenery\n",
            "story\n",
            "direction\n",
            "everyone's\n",
            "really\n",
            "suited\n",
            "the\n",
            "part\n",
            "they\n",
            "played\n",
            "and\n",
            "you\n",
            "could\n",
            "just\n",
            "imagine\n",
            "being\n",
            "there\n",
            "robert\n",
            "None\n",
            "is\n",
            "an\n",
            "amazing\n",
            "actor\n",
            "and\n",
            "now\n",
            "the\n",
            "same\n",
            "being\n",
            "director\n",
            "None\n",
            "father\n",
            "came\n",
            "from\n",
            "the\n",
            "same\n",
            "scottish\n",
            "island\n",
            "as\n",
            "myself\n",
            "so\n",
            "i\n",
            "loved\n",
            "the\n",
            "fact\n",
            "there\n",
            "was\n",
            "a\n",
            "real\n",
            "connection\n",
            "with\n",
            "this\n",
            "film\n",
            "the\n",
            "witty\n",
            "remarks\n",
            "throughout\n",
            "the\n",
            "film\n",
            "were\n",
            "great\n",
            "it\n",
            "was\n",
            "just\n",
            "brilliant\n",
            "so\n",
            "much\n",
            "that\n",
            "i\n",
            "bought\n",
            "the\n",
            "film\n",
            "as\n",
            "soon\n",
            "as\n",
            "it\n",
            "was\n",
            "released\n",
            "for\n",
            "None\n",
            "and\n",
            "would\n",
            "recommend\n",
            "it\n",
            "to\n",
            "everyone\n",
            "to\n",
            "watch\n",
            "and\n",
            "the\n",
            "fly\n",
            "fishing\n",
            "was\n",
            "amazing\n",
            "really\n",
            "cried\n",
            "at\n",
            "the\n",
            "end\n",
            "it\n",
            "was\n",
            "so\n",
            "sad\n",
            "and\n",
            "you\n",
            "know\n",
            "what\n",
            "they\n",
            "say\n",
            "if\n",
            "you\n",
            "cry\n",
            "at\n",
            "a\n",
            "film\n",
            "it\n",
            "must\n",
            "have\n",
            "been\n",
            "good\n",
            "and\n",
            "this\n",
            "definitely\n",
            "was\n",
            "also\n",
            "None\n",
            "to\n",
            "the\n",
            "two\n",
            "little\n",
            "boy's\n",
            "that\n",
            "played\n",
            "the\n",
            "None\n",
            "of\n",
            "norman\n",
            "and\n",
            "paul\n",
            "they\n",
            "were\n",
            "just\n",
            "brilliant\n",
            "children\n",
            "are\n",
            "often\n",
            "left\n",
            "out\n",
            "of\n",
            "the\n",
            "None\n",
            "list\n",
            "i\n",
            "think\n",
            "because\n",
            "the\n",
            "stars\n",
            "that\n",
            "play\n",
            "them\n",
            "all\n",
            "grown\n",
            "up\n",
            "are\n",
            "such\n",
            "a\n",
            "big\n",
            "profile\n",
            "for\n",
            "the\n",
            "whole\n",
            "film\n",
            "but\n",
            "these\n",
            "children\n",
            "are\n",
            "amazing\n",
            "and\n",
            "should\n",
            "be\n",
            "praised\n",
            "for\n",
            "what\n",
            "they\n",
            "have\n",
            "done\n",
            "don't\n",
            "you\n",
            "think\n",
            "the\n",
            "whole\n",
            "story\n",
            "was\n",
            "so\n",
            "lovely\n",
            "because\n",
            "it\n",
            "was\n",
            "true\n",
            "and\n",
            "was\n",
            "someone's\n",
            "life\n",
            "after\n",
            "all\n",
            "that\n",
            "was\n",
            "shared\n",
            "with\n",
            "us\n",
            "all\n"
          ]
        }
      ]
    },
    {
      "cell_type": "code",
      "source": [
        "# Keras\n",
        "#Vectorization --> one hot encoding  to use this data with Keras\n",
        "\n",
        "def vectorizar(sequences, dim=10000):\n",
        "    restults = np.zeros((len(sequences),dim))\n",
        "    for i, sequences in enumerate(sequences):\n",
        "        restults[i,sequences]=1\n",
        "    return restults "
      ],
      "metadata": {
        "id": "RMJUr2DzbzL8"
      },
      "execution_count": 10,
      "outputs": []
    },
    {
      "cell_type": "code",
      "source": [
        "x_train = vectorizar(train_data)\n",
        "y_train = vectorizar(test_data)"
      ],
      "metadata": {
        "id": "-7mhBzZGbPjM"
      },
      "execution_count": 11,
      "outputs": []
    },
    {
      "cell_type": "code",
      "source": [
        "y_train = np.asarray(train_labels).astype('float32')\n",
        "y_test = np.asarray(test_labels).astype('float32')"
      ],
      "metadata": {
        "id": "Xk02C6LBcd3q"
      },
      "execution_count": 13,
      "outputs": []
    },
    {
      "cell_type": "code",
      "source": [
        "#Model - sequential\n"
      ],
      "metadata": {
        "id": "sX6uaDN_fbPJ"
      },
      "execution_count": null,
      "outputs": []
    }
  ]
}