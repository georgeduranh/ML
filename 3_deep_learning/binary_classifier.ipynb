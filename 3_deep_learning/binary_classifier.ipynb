{
  "nbformat": 4,
  "nbformat_minor": 0,
  "metadata": {
    "colab": {
      "provenance": [],
      "authorship_tag": "ABX9TyOiBFd5VM4rtOxjEnRsxDqQ",
      "include_colab_link": true
    },
    "kernelspec": {
      "name": "python3",
      "display_name": "Python 3"
    },
    "language_info": {
      "name": "python"
    },
    "accelerator": "GPU",
    "gpuClass": "standard"
  },
  "cells": [
    {
      "cell_type": "markdown",
      "metadata": {
        "id": "view-in-github",
        "colab_type": "text"
      },
      "source": [
        "<a href=\"https://colab.research.google.com/github/georgeduranh/ML/blob/main/3_deep_learning/binary_classifier.ipynb\" target=\"_parent\"><img src=\"https://colab.research.google.com/assets/colab-badge.svg\" alt=\"Open In Colab\"/></a>"
      ]
    },
    {
      "cell_type": "code",
      "execution_count": 24,
      "metadata": {
        "id": "IAC6miGiOk3J"
      },
      "outputs": [],
      "source": [
        "import numpy as np\n",
        "from keras.datasets import imdb\n",
        "from keras import models, layers, optimizers\n",
        "import matplotlib.pyplot as plt\n"
      ]
    },
    {
      "cell_type": "code",
      "source": [
        "(train_data, train_labels ), (test_data, test_labels)=  imdb.load_data(num_words=10000)"
      ],
      "metadata": {
        "colab": {
          "base_uri": "https://localhost:8080/"
        },
        "id": "404OUneraSbX",
        "outputId": "648da104-ee79-49d8-d80e-f43fe58e1512"
      },
      "execution_count": 2,
      "outputs": [
        {
          "output_type": "stream",
          "name": "stdout",
          "text": [
            "Downloading data from https://storage.googleapis.com/tensorflow/tf-keras-datasets/imdb.npz\n",
            "17464789/17464789 [==============================] - 0s 0us/step\n"
          ]
        }
      ]
    },
    {
      "cell_type": "code",
      "source": [
        "train_data.shape"
      ],
      "metadata": {
        "colab": {
          "base_uri": "https://localhost:8080/"
        },
        "id": "BDgkvF0hag99",
        "outputId": "9935ac44-de5a-4595-dba4-a9ee3da82f3d"
      },
      "execution_count": 3,
      "outputs": [
        {
          "output_type": "execute_result",
          "data": {
            "text/plain": [
              "(25000,)"
            ]
          },
          "metadata": {},
          "execution_count": 3
        }
      ]
    },
    {
      "cell_type": "code",
      "source": [
        "train_labels"
      ],
      "metadata": {
        "colab": {
          "base_uri": "https://localhost:8080/"
        },
        "id": "AR2w6fK0ak30",
        "outputId": "c4dd085e-5471-4df7-ca12-47be83036090"
      },
      "execution_count": 4,
      "outputs": [
        {
          "output_type": "execute_result",
          "data": {
            "text/plain": [
              "array([1, 0, 0, ..., 0, 1, 0])"
            ]
          },
          "metadata": {},
          "execution_count": 4
        }
      ]
    },
    {
      "cell_type": "code",
      "source": [
        "word_index = imdb.get_word_index()"
      ],
      "metadata": {
        "colab": {
          "base_uri": "https://localhost:8080/"
        },
        "id": "MG1uPgsDatUN",
        "outputId": "f9b7f68f-d58f-42fe-95f9-71a3b394c861"
      },
      "execution_count": 5,
      "outputs": [
        {
          "output_type": "stream",
          "name": "stdout",
          "text": [
            "Downloading data from https://storage.googleapis.com/tensorflow/tf-keras-datasets/imdb_word_index.json\n",
            "1641221/1641221 [==============================] - 0s 0us/step\n"
          ]
        }
      ]
    },
    {
      "cell_type": "code",
      "source": [
        "word_index=  dict([(value,key) for (key,value) in word_index.items()])"
      ],
      "metadata": {
        "id": "PKMVq0-Ka2x7"
      },
      "execution_count": 6,
      "outputs": []
    },
    {
      "cell_type": "code",
      "source": [
        "for _ in train_data[0]:\n",
        "  print(word_index.get(_-3))\n"
      ],
      "metadata": {
        "colab": {
          "base_uri": "https://localhost:8080/"
        },
        "id": "cd1pBir6a31r",
        "outputId": "eca5aaa4-018b-4081-8a30-11b349e78e08"
      },
      "execution_count": 7,
      "outputs": [
        {
          "output_type": "stream",
          "name": "stdout",
          "text": [
            "None\n",
            "this\n",
            "film\n",
            "was\n",
            "just\n",
            "brilliant\n",
            "casting\n",
            "location\n",
            "scenery\n",
            "story\n",
            "direction\n",
            "everyone's\n",
            "really\n",
            "suited\n",
            "the\n",
            "part\n",
            "they\n",
            "played\n",
            "and\n",
            "you\n",
            "could\n",
            "just\n",
            "imagine\n",
            "being\n",
            "there\n",
            "robert\n",
            "None\n",
            "is\n",
            "an\n",
            "amazing\n",
            "actor\n",
            "and\n",
            "now\n",
            "the\n",
            "same\n",
            "being\n",
            "director\n",
            "None\n",
            "father\n",
            "came\n",
            "from\n",
            "the\n",
            "same\n",
            "scottish\n",
            "island\n",
            "as\n",
            "myself\n",
            "so\n",
            "i\n",
            "loved\n",
            "the\n",
            "fact\n",
            "there\n",
            "was\n",
            "a\n",
            "real\n",
            "connection\n",
            "with\n",
            "this\n",
            "film\n",
            "the\n",
            "witty\n",
            "remarks\n",
            "throughout\n",
            "the\n",
            "film\n",
            "were\n",
            "great\n",
            "it\n",
            "was\n",
            "just\n",
            "brilliant\n",
            "so\n",
            "much\n",
            "that\n",
            "i\n",
            "bought\n",
            "the\n",
            "film\n",
            "as\n",
            "soon\n",
            "as\n",
            "it\n",
            "was\n",
            "released\n",
            "for\n",
            "None\n",
            "and\n",
            "would\n",
            "recommend\n",
            "it\n",
            "to\n",
            "everyone\n",
            "to\n",
            "watch\n",
            "and\n",
            "the\n",
            "fly\n",
            "fishing\n",
            "was\n",
            "amazing\n",
            "really\n",
            "cried\n",
            "at\n",
            "the\n",
            "end\n",
            "it\n",
            "was\n",
            "so\n",
            "sad\n",
            "and\n",
            "you\n",
            "know\n",
            "what\n",
            "they\n",
            "say\n",
            "if\n",
            "you\n",
            "cry\n",
            "at\n",
            "a\n",
            "film\n",
            "it\n",
            "must\n",
            "have\n",
            "been\n",
            "good\n",
            "and\n",
            "this\n",
            "definitely\n",
            "was\n",
            "also\n",
            "None\n",
            "to\n",
            "the\n",
            "two\n",
            "little\n",
            "boy's\n",
            "that\n",
            "played\n",
            "the\n",
            "None\n",
            "of\n",
            "norman\n",
            "and\n",
            "paul\n",
            "they\n",
            "were\n",
            "just\n",
            "brilliant\n",
            "children\n",
            "are\n",
            "often\n",
            "left\n",
            "out\n",
            "of\n",
            "the\n",
            "None\n",
            "list\n",
            "i\n",
            "think\n",
            "because\n",
            "the\n",
            "stars\n",
            "that\n",
            "play\n",
            "them\n",
            "all\n",
            "grown\n",
            "up\n",
            "are\n",
            "such\n",
            "a\n",
            "big\n",
            "profile\n",
            "for\n",
            "the\n",
            "whole\n",
            "film\n",
            "but\n",
            "these\n",
            "children\n",
            "are\n",
            "amazing\n",
            "and\n",
            "should\n",
            "be\n",
            "praised\n",
            "for\n",
            "what\n",
            "they\n",
            "have\n",
            "done\n",
            "don't\n",
            "you\n",
            "think\n",
            "the\n",
            "whole\n",
            "story\n",
            "was\n",
            "so\n",
            "lovely\n",
            "because\n",
            "it\n",
            "was\n",
            "true\n",
            "and\n",
            "was\n",
            "someone's\n",
            "life\n",
            "after\n",
            "all\n",
            "that\n",
            "was\n",
            "shared\n",
            "with\n",
            "us\n",
            "all\n"
          ]
        }
      ]
    },
    {
      "cell_type": "code",
      "source": [
        "# Keras\n",
        "#Vectorization --> one hot encoding  to use this data with Keras\n",
        "\n",
        "def vectorizar(sequences, dim=10000):\n",
        "    restults = np.zeros((len(sequences),dim))\n",
        "    for i, sequences in enumerate(sequences):\n",
        "        restults[i,sequences]=1\n",
        "    return restults "
      ],
      "metadata": {
        "id": "RMJUr2DzbzL8"
      },
      "execution_count": 10,
      "outputs": []
    },
    {
      "cell_type": "code",
      "source": [
        "x_train = vectorizar(train_data)\n",
        "x_test = vectorizar(test_data)"
      ],
      "metadata": {
        "id": "WLMEz87yj4vG"
      },
      "execution_count": 50,
      "outputs": []
    },
    {
      "cell_type": "code",
      "source": [
        "y_train = np.asarray(train_labels).astype('float32')\n",
        "y_test = np.asarray(test_labels).astype('float32')"
      ],
      "metadata": {
        "id": "Xk02C6LBcd3q"
      },
      "execution_count": 49,
      "outputs": []
    },
    {
      "cell_type": "code",
      "source": [
        "#Model - sequential\n",
        "model = models.Sequential()\n",
        "model.add(layers.Dense(16, activation='relu', input_shape=(10000,)))\n",
        "model.add(layers.Dense(16, activation='relu'))\n",
        "model.add(layers.Dense(1, activation='sigmoid'))"
      ],
      "metadata": {
        "id": "sX6uaDN_fbPJ"
      },
      "execution_count": 37,
      "outputs": []
    },
    {
      "cell_type": "code",
      "source": [
        "model.compile(optimizer='rmsprop',\n",
        "              loss='binary_crossentropy',\n",
        "              metrics='accuracy')"
      ],
      "metadata": {
        "id": "25j7qbxJgLhh"
      },
      "execution_count": 38,
      "outputs": []
    },
    {
      "cell_type": "code",
      "source": [
        "x_val = x_train[:10000]\n",
        "partial_x_train = x_train[10000:]\n",
        "\n",
        "y_val = y_train[:10000]\n",
        "partial_y_train =  y_train[10000:]"
      ],
      "metadata": {
        "id": "dfbaE_Kzg5L4"
      },
      "execution_count": 48,
      "outputs": []
    },
    {
      "cell_type": "code",
      "source": [
        "#saving data\n",
        "history = model.fit(partial_x_train, partial_y_train,\n",
        "                    epochs=4,\n",
        "                    batch_size=512,\n",
        "                    validation_data=(x_val, y_val))"
      ],
      "metadata": {
        "colab": {
          "base_uri": "https://localhost:8080/"
        },
        "id": "PC0_4Ds2hHg3",
        "outputId": "5fffe199-08d1-4498-d140-c989b76294c0"
      },
      "execution_count": 51,
      "outputs": [
        {
          "output_type": "stream",
          "name": "stdout",
          "text": [
            "Epoch 1/4\n",
            "30/30 [==============================] - 1s 45ms/step - loss: 0.0302 - accuracy: 0.9941 - val_loss: 0.4848 - val_accuracy: 0.8742\n",
            "Epoch 2/4\n",
            "30/30 [==============================] - 1s 21ms/step - loss: 0.0268 - accuracy: 0.9947 - val_loss: 0.4958 - val_accuracy: 0.8740\n",
            "Epoch 3/4\n",
            "30/30 [==============================] - 1s 21ms/step - loss: 0.0173 - accuracy: 0.9977 - val_loss: 0.5405 - val_accuracy: 0.8715\n",
            "Epoch 4/4\n",
            "30/30 [==============================] - 1s 20ms/step - loss: 0.0164 - accuracy: 0.9973 - val_loss: 0.5540 - val_accuracy: 0.8693\n"
          ]
        }
      ]
    },
    {
      "cell_type": "code",
      "source": [
        "#results\n",
        "history_dict = history.history\n",
        "loss_values = history_dict['loss']\n",
        "val_loss_values = history_dict['val_loss']\n",
        "\n",
        "epoch = range (1, len(loss_values)+1)"
      ],
      "metadata": {
        "id": "1Mav4uMDhaq6"
      },
      "execution_count": 58,
      "outputs": []
    },
    {
      "cell_type": "code",
      "source": [
        "plt.plot(epoch, loss_values, 'o', label = 'Training')\n",
        "plt.plot(epoch, val_loss_values, '--', label = 'Validation')\n",
        "plt.legend()\n",
        "plt.show()\n"
      ],
      "metadata": {
        "colab": {
          "base_uri": "https://localhost:8080/",
          "height": 265
        },
        "id": "RUHgUO_YhziV",
        "outputId": "4adf5ca4-9cdb-47fd-83a4-2c98725166f4"
      },
      "execution_count": 59,
      "outputs": [
        {
          "output_type": "display_data",
          "data": {
            "text/plain": [
              "<Figure size 432x288 with 1 Axes>"
            ],
            "image/png": "[encoded data removed]"
          },
          "metadata": {
            "needs_background": "light"
          }
        }
      ]
    },
    {
      "cell_type": "code",
      "source": [
        "model.evaluate(x_test, y_test)"
      ],
      "metadata": {
        "colab": {
          "base_uri": "https://localhost:8080/"
        },
        "id": "rvhSztRkiQqd",
        "outputId": "3d6520f5-3d16-4730-f7d4-3dd697a26808"
      },
      "execution_count": 55,
      "outputs": [
        {
          "output_type": "stream",
          "name": "stdout",
          "text": [
            "782/782 [==============================] - 2s 3ms/step - loss: 0.6069 - accuracy: 0.8546\n"
          ]
        },
        {
          "output_type": "execute_result",
          "data": {
            "text/plain": [
              "[0.6069409251213074, 0.854640007019043]"
            ]
          },
          "metadata": {},
          "execution_count": 55
        }
      ]
    },
    {
      "cell_type": "code",
      "source": [
        "predictions = model.predict(x_test)"
      ],
      "metadata": {
        "colab": {
          "base_uri": "https://localhost:8080/"
        },
        "id": "iM80oVwYiwLu",
        "outputId": "ef51e46a-5b98-4c57-ec78-c21fa97bd98c"
      },
      "execution_count": 56,
      "outputs": [
        {
          "output_type": "stream",
          "name": "stdout",
          "text": [
            "782/782 [==============================] - 2s 2ms/step\n"
          ]
        }
      ]
    },
    {
      "cell_type": "code",
      "source": [
        "predictions[0]"
      ],
      "metadata": {
        "colab": {
          "base_uri": "https://localhost:8080/"
        },
        "id": "e3fTPL28kTpL",
        "outputId": "aebfd471-fefa-4280-bacc-2c4caceee0b9"
      },
      "execution_count": 57,
      "outputs": [
        {
          "output_type": "execute_result",
          "data": {
            "text/plain": [
              "array([0.02189483], dtype=float32)"
            ]
          },
          "metadata": {},
          "execution_count": 57
        }
      ]
    },
    {
      "cell_type": "code",
      "source": [],
      "metadata": {
        "id": "lt_ta5VDkWgl"
      },
      "execution_count": null,
      "outputs": []
    }
  ]
}