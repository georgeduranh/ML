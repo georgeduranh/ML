{
  "nbformat": 4,
  "nbformat_minor": 0,
  "metadata": {
    "colab": {
      "provenance": [],
      "authorship_tag": "ABX9TyPqCz4328o5CjUTzSk8iJNy",
      "include_colab_link": true
    },
    "kernelspec": {
      "name": "python3",
      "display_name": "Python 3"
    },
    "language_info": {
      "name": "python"
    },
    "accelerator": "GPU",
    "gpuClass": "standard"
  },
  "cells": [
    {
      "cell_type": "markdown",
      "metadata": {
        "id": "view-in-github",
        "colab_type": "text"
      },
      "source": [
        "<a href=\"https://colab.research.google.com/github/georgeduranh/ML/blob/main/3_deep_learning/binary_classifier.ipynb\" target=\"_parent\"><img src=\"https://colab.research.google.com/assets/colab-badge.svg\" alt=\"Open In Colab\"/></a>"
      ]
    },
    {
      "cell_type": "code",
      "execution_count": null,
      "metadata": {
        "id": "IAC6miGiOk3J"
      },
      "outputs": [],
      "source": [
        "import numpy as np\n",
        "from keras.datasets import imdb\n",
        "from keras import models, layers, optimizers\n",
        "import matplotlib.pyplot as plt\n",
        "\n",
        "from keras import regularizers\n"
      ]
    },
    {
      "cell_type": "code",
      "source": [
        "(train_data, train_labels ), (test_data, test_labels)=  imdb.load_data(num_words=10000)"
      ],
      "metadata": {
        "colab": {
          "base_uri": "https://localhost:8080/"
        },
        "id": "404OUneraSbX",
        "outputId": "3220ecd9-5cdf-4b8b-d2a0-1bca4340ae65"
      },
      "execution_count": null,
      "outputs": [
        {
          "output_type": "stream",
          "name": "stdout",
          "text": [
            "Downloading data from https://storage.googleapis.com/tensorflow/tf-keras-datasets/imdb.npz\n",
            "17464789/17464789 [==============================] - 1s 0us/step\n"
          ]
        }
      ]
    },
    {
      "cell_type": "code",
      "source": [
        "train_data.shape"
      ],
      "metadata": {
        "colab": {
          "base_uri": "https://localhost:8080/"
        },
        "id": "BDgkvF0hag99",
        "outputId": "74b68901-fd17-42df-b0ae-eb280180b552"
      },
      "execution_count": null,
      "outputs": [
        {
          "output_type": "execute_result",
          "data": {
            "text/plain": [
              "(25000,)"
            ]
          },
          "metadata": {},
          "execution_count": 3
        }
      ]
    },
    {
      "cell_type": "code",
      "source": [
        "train_labels"
      ],
      "metadata": {
        "colab": {
          "base_uri": "https://localhost:8080/"
        },
        "id": "AR2w6fK0ak30",
        "outputId": "256fb984-0d14-43e6-da43-cd064b1fd837"
      },
      "execution_count": null,
      "outputs": [
        {
          "output_type": "execute_result",
          "data": {
            "text/plain": [
              "array([1, 0, 0, ..., 0, 1, 0])"
            ]
          },
          "metadata": {},
          "execution_count": 4
        }
      ]
    },
    {
      "cell_type": "code",
      "source": [
        "word_index = imdb.get_word_index()"
      ],
      "metadata": {
        "colab": {
          "base_uri": "https://localhost:8080/"
        },
        "id": "MG1uPgsDatUN",
        "outputId": "b590e41e-9af8-4adb-af9b-67812d9a76e8"
      },
      "execution_count": null,
      "outputs": [
        {
          "output_type": "stream",
          "name": "stdout",
          "text": [
            "Downloading data from https://storage.googleapis.com/tensorflow/tf-keras-datasets/imdb_word_index.json\n",
            "1641221/1641221 [==============================] - 0s 0us/step\n"
          ]
        }
      ]
    },
    {
      "cell_type": "code",
      "source": [
        "word_index=  dict([(value,key) for (key,value) in word_index.items()])"
      ],
      "metadata": {
        "id": "PKMVq0-Ka2x7"
      },
      "execution_count": null,
      "outputs": []
    },
    {
      "cell_type": "code",
      "source": [
        "for _ in train_data[0]:\n",
        "  print(word_index.get(_-3))\n"
      ],
      "metadata": {
        "colab": {
          "base_uri": "https://localhost:8080/"
        },
        "id": "cd1pBir6a31r",
        "outputId": "4294bc15-a3c7-4b10-c7fe-5ad2b0a5523c"
      },
      "execution_count": null,
      "outputs": [
        {
          "output_type": "stream",
          "name": "stdout",
          "text": [
            "None\n",
            "this\n",
            "film\n",
            "was\n",
            "just\n",
            "brilliant\n",
            "casting\n",
            "location\n",
            "scenery\n",
            "story\n",
            "direction\n",
            "everyone's\n",
            "really\n",
            "suited\n",
            "the\n",
            "part\n",
            "they\n",
            "played\n",
            "and\n",
            "you\n",
            "could\n",
            "just\n",
            "imagine\n",
            "being\n",
            "there\n",
            "robert\n",
            "None\n",
            "is\n",
            "an\n",
            "amazing\n",
            "actor\n",
            "and\n",
            "now\n",
            "the\n",
            "same\n",
            "being\n",
            "director\n",
            "None\n",
            "father\n",
            "came\n",
            "from\n",
            "the\n",
            "same\n",
            "scottish\n",
            "island\n",
            "as\n",
            "myself\n",
            "so\n",
            "i\n",
            "loved\n",
            "the\n",
            "fact\n",
            "there\n",
            "was\n",
            "a\n",
            "real\n",
            "connection\n",
            "with\n",
            "this\n",
            "film\n",
            "the\n",
            "witty\n",
            "remarks\n",
            "throughout\n",
            "the\n",
            "film\n",
            "were\n",
            "great\n",
            "it\n",
            "was\n",
            "just\n",
            "brilliant\n",
            "so\n",
            "much\n",
            "that\n",
            "i\n",
            "bought\n",
            "the\n",
            "film\n",
            "as\n",
            "soon\n",
            "as\n",
            "it\n",
            "was\n",
            "released\n",
            "for\n",
            "None\n",
            "and\n",
            "would\n",
            "recommend\n",
            "it\n",
            "to\n",
            "everyone\n",
            "to\n",
            "watch\n",
            "and\n",
            "the\n",
            "fly\n",
            "fishing\n",
            "was\n",
            "amazing\n",
            "really\n",
            "cried\n",
            "at\n",
            "the\n",
            "end\n",
            "it\n",
            "was\n",
            "so\n",
            "sad\n",
            "and\n",
            "you\n",
            "know\n",
            "what\n",
            "they\n",
            "say\n",
            "if\n",
            "you\n",
            "cry\n",
            "at\n",
            "a\n",
            "film\n",
            "it\n",
            "must\n",
            "have\n",
            "been\n",
            "good\n",
            "and\n",
            "this\n",
            "definitely\n",
            "was\n",
            "also\n",
            "None\n",
            "to\n",
            "the\n",
            "two\n",
            "little\n",
            "boy's\n",
            "that\n",
            "played\n",
            "the\n",
            "None\n",
            "of\n",
            "norman\n",
            "and\n",
            "paul\n",
            "they\n",
            "were\n",
            "just\n",
            "brilliant\n",
            "children\n",
            "are\n",
            "often\n",
            "left\n",
            "out\n",
            "of\n",
            "the\n",
            "None\n",
            "list\n",
            "i\n",
            "think\n",
            "because\n",
            "the\n",
            "stars\n",
            "that\n",
            "play\n",
            "them\n",
            "all\n",
            "grown\n",
            "up\n",
            "are\n",
            "such\n",
            "a\n",
            "big\n",
            "profile\n",
            "for\n",
            "the\n",
            "whole\n",
            "film\n",
            "but\n",
            "these\n",
            "children\n",
            "are\n",
            "amazing\n",
            "and\n",
            "should\n",
            "be\n",
            "praised\n",
            "for\n",
            "what\n",
            "they\n",
            "have\n",
            "done\n",
            "don't\n",
            "you\n",
            "think\n",
            "the\n",
            "whole\n",
            "story\n",
            "was\n",
            "so\n",
            "lovely\n",
            "because\n",
            "it\n",
            "was\n",
            "true\n",
            "and\n",
            "was\n",
            "someone's\n",
            "life\n",
            "after\n",
            "all\n",
            "that\n",
            "was\n",
            "shared\n",
            "with\n",
            "us\n",
            "all\n"
          ]
        }
      ]
    },
    {
      "cell_type": "code",
      "source": [
        "# Keras\n",
        "#Vectorization --> one hot encoding  to use this data with Keras\n",
        "\n",
        "def vectorizar(sequences, dim=10000):\n",
        "    restults = np.zeros((len(sequences),dim))\n",
        "    for i, sequences in enumerate(sequences):\n",
        "        restults[i,sequences]=1\n",
        "    return restults "
      ],
      "metadata": {
        "id": "RMJUr2DzbzL8"
      },
      "execution_count": null,
      "outputs": []
    },
    {
      "cell_type": "code",
      "source": [
        "x_train = vectorizar(train_data)\n",
        "x_test = vectorizar(test_data)"
      ],
      "metadata": {
        "id": "WLMEz87yj4vG"
      },
      "execution_count": null,
      "outputs": []
    },
    {
      "cell_type": "code",
      "source": [
        "y_train = np.asarray(train_labels).astype('float32')\n",
        "y_test = np.asarray(test_labels).astype('float32')"
      ],
      "metadata": {
        "id": "Xk02C6LBcd3q"
      },
      "execution_count": null,
      "outputs": []
    },
    {
      "cell_type": "code",
      "source": [
        "#Model - sequential\n",
        "model = models.Sequential()\n",
        "model.add(layers.Dense(16, activation='relu', input_shape=(10000,)))\n",
        "model.add(layers.Dense(16, activation='relu'))\n",
        "model.add(layers.Dense(1, activation='sigmoid'))"
      ],
      "metadata": {
        "id": "sX6uaDN_fbPJ"
      },
      "execution_count": null,
      "outputs": []
    },
    {
      "cell_type": "code",
      "source": [
        "model.compile(optimizer='rmsprop',\n",
        "              loss='binary_crossentropy',\n",
        "              metrics='accuracy')"
      ],
      "metadata": {
        "id": "25j7qbxJgLhh"
      },
      "execution_count": null,
      "outputs": []
    },
    {
      "cell_type": "code",
      "source": [
        "x_val = x_train[:10000]\n",
        "partial_x_train = x_train[10000:]\n",
        "\n",
        "y_val = y_train[:10000]\n",
        "partial_y_train =  y_train[10000:]"
      ],
      "metadata": {
        "id": "dfbaE_Kzg5L4"
      },
      "execution_count": null,
      "outputs": []
    },
    {
      "cell_type": "code",
      "source": [
        "#saving data\n",
        "history = model.fit(partial_x_train, partial_y_train,\n",
        "                    epochs=4,\n",
        "                    batch_size=512,\n",
        "                    validation_data=(x_val, y_val))"
      ],
      "metadata": {
        "colab": {
          "base_uri": "https://localhost:8080/"
        },
        "id": "PC0_4Ds2hHg3",
        "outputId": "7368831a-684b-469b-f5a8-07976b3f25d8"
      },
      "execution_count": null,
      "outputs": [
        {
          "output_type": "stream",
          "name": "stdout",
          "text": [
            "Epoch 1/4\n",
            "30/30 [==============================] - 4s 42ms/step - loss: 0.5264 - accuracy: 0.7777 - val_loss: 0.3986 - val_accuracy: 0.8664\n",
            "Epoch 2/4\n",
            "30/30 [==============================] - 1s 21ms/step - loss: 0.3113 - accuracy: 0.9037 - val_loss: 0.3265 - val_accuracy: 0.8714\n",
            "Epoch 3/4\n",
            "30/30 [==============================] - 1s 21ms/step - loss: 0.2257 - accuracy: 0.9253 - val_loss: 0.2785 - val_accuracy: 0.8915\n",
            "Epoch 4/4\n",
            "30/30 [==============================] - 1s 20ms/step - loss: 0.1755 - accuracy: 0.9429 - val_loss: 0.2744 - val_accuracy: 0.8899\n"
          ]
        }
      ]
    },
    {
      "cell_type": "code",
      "source": [
        "#results\n",
        "history_dict = history.history\n",
        "loss_values = history_dict['loss']\n",
        "val_loss_values = history_dict['val_loss']\n",
        "\n",
        "epoch = range (1, len(loss_values)+1)"
      ],
      "metadata": {
        "id": "1Mav4uMDhaq6"
      },
      "execution_count": null,
      "outputs": []
    },
    {
      "cell_type": "code",
      "source": [
        "plt.plot(epoch, loss_values, 'o', label = 'Training')\n",
        "plt.plot(epoch, val_loss_values, '--', label = 'Validation')\n",
        "plt.legend()\n",
        "plt.show()\n"
      ],
      "metadata": {
        "colab": {
          "base_uri": "https://localhost:8080/",
          "height": 265
        },
        "id": "RUHgUO_YhziV",
        "outputId": "8fbca8d6-6bfc-4da7-e3cc-d851e4a2b826"
      },
      "execution_count": null,
      "outputs": [
        {
          "output_type": "display_data",
          "data": {
            "text/plain": [
              "<Figure size 432x288 with 1 Axes>"
            ],
            "image/png": "[encoded data removed]"
          },
          "metadata": {
            "needs_background": "light"
          }
        }
      ]
    },
    {
      "cell_type": "code",
      "source": [
        "model.evaluate(x_test, y_test)"
      ],
      "metadata": {
        "colab": {
          "base_uri": "https://localhost:8080/"
        },
        "id": "rvhSztRkiQqd",
        "outputId": "b19696a6-fe0e-4947-ed79-40c0e279594c"
      },
      "execution_count": null,
      "outputs": [
        {
          "output_type": "stream",
          "name": "stdout",
          "text": [
            "782/782 [==============================] - 2s 3ms/step - loss: 0.2955 - accuracy: 0.8816\n"
          ]
        },
        {
          "output_type": "execute_result",
          "data": {
            "text/plain": [
              "[0.29551467299461365, 0.881600022315979]"
            ]
          },
          "metadata": {},
          "execution_count": 17
        }
      ]
    },
    {
      "cell_type": "code",
      "source": [
        "predictions = model.predict(x_test)"
      ],
      "metadata": {
        "colab": {
          "base_uri": "https://localhost:8080/"
        },
        "id": "iM80oVwYiwLu",
        "outputId": "891cd7b3-b1b7-4067-b266-4fe0fb88ffe9"
      },
      "execution_count": null,
      "outputs": [
        {
          "output_type": "stream",
          "name": "stdout",
          "text": [
            "782/782 [==============================] - 1s 2ms/step\n"
          ]
        }
      ]
    },
    {
      "cell_type": "code",
      "source": [
        "predictions[0]"
      ],
      "metadata": {
        "colab": {
          "base_uri": "https://localhost:8080/"
        },
        "id": "e3fTPL28kTpL",
        "outputId": "690495c7-5b88-4ff5-b351-8a5b2522566f"
      },
      "execution_count": null,
      "outputs": [
        {
          "output_type": "execute_result",
          "data": {
            "text/plain": [
              "array([0.2542046], dtype=float32)"
            ]
          },
          "metadata": {},
          "execution_count": 19
        }
      ]
    },
    {
      "cell_type": "code",
      "source": [
        "#Reducing the overfitting\n",
        "#saving data\n",
        "history = model.fit(partial_x_train, partial_y_train,\n",
        "                    epochs=20,\n",
        "                    batch_size=512,\n",
        "                    validation_data=(x_val, y_val))"
      ],
      "metadata": {
        "id": "lt_ta5VDkWgl",
        "colab": {
          "base_uri": "https://localhost:8080/"
        },
        "outputId": "c5c245d2-f422-4d51-b6b6-c94bce5dba55"
      },
      "execution_count": null,
      "outputs": [
        {
          "output_type": "stream",
          "name": "stdout",
          "text": [
            "Epoch 1/20\n",
            "30/30 [==============================] - 1s 35ms/step - loss: 0.1413 - accuracy: 0.9546 - val_loss: 0.2822 - val_accuracy: 0.8907\n",
            "Epoch 2/20\n",
            "30/30 [==============================] - 1s 21ms/step - loss: 0.1135 - accuracy: 0.9657 - val_loss: 0.2950 - val_accuracy: 0.8859\n",
            "Epoch 3/20\n",
            "30/30 [==============================] - 1s 20ms/step - loss: 0.0944 - accuracy: 0.9711 - val_loss: 0.3287 - val_accuracy: 0.8790\n",
            "Epoch 4/20\n",
            "30/30 [==============================] - 1s 20ms/step - loss: 0.0753 - accuracy: 0.9794 - val_loss: 0.3334 - val_accuracy: 0.8817\n",
            "Epoch 5/20\n",
            "30/30 [==============================] - 1s 21ms/step - loss: 0.0617 - accuracy: 0.9835 - val_loss: 0.3956 - val_accuracy: 0.8680\n",
            "Epoch 6/20\n",
            "30/30 [==============================] - 1s 20ms/step - loss: 0.0508 - accuracy: 0.9870 - val_loss: 0.3814 - val_accuracy: 0.8788\n",
            "Epoch 7/20\n",
            "30/30 [==============================] - 1s 20ms/step - loss: 0.0400 - accuracy: 0.9907 - val_loss: 0.4107 - val_accuracy: 0.8760\n",
            "Epoch 8/20\n",
            "30/30 [==============================] - 1s 20ms/step - loss: 0.0319 - accuracy: 0.9937 - val_loss: 0.4369 - val_accuracy: 0.8728\n",
            "Epoch 9/20\n",
            "30/30 [==============================] - 1s 24ms/step - loss: 0.0249 - accuracy: 0.9958 - val_loss: 0.4703 - val_accuracy: 0.8732\n",
            "Epoch 10/20\n",
            "30/30 [==============================] - 1s 20ms/step - loss: 0.0192 - accuracy: 0.9969 - val_loss: 0.5005 - val_accuracy: 0.8726\n",
            "Epoch 11/20\n",
            "30/30 [==============================] - 1s 20ms/step - loss: 0.0165 - accuracy: 0.9973 - val_loss: 0.5399 - val_accuracy: 0.8675\n",
            "Epoch 12/20\n",
            "30/30 [==============================] - 1s 20ms/step - loss: 0.0106 - accuracy: 0.9993 - val_loss: 0.5667 - val_accuracy: 0.8694\n",
            "Epoch 13/20\n",
            "30/30 [==============================] - 1s 21ms/step - loss: 0.0115 - accuracy: 0.9981 - val_loss: 0.6085 - val_accuracy: 0.8676\n",
            "Epoch 14/20\n",
            "30/30 [==============================] - 1s 20ms/step - loss: 0.0052 - accuracy: 0.9997 - val_loss: 0.6367 - val_accuracy: 0.8683\n",
            "Epoch 15/20\n",
            "30/30 [==============================] - 1s 20ms/step - loss: 0.0080 - accuracy: 0.9983 - val_loss: 0.6658 - val_accuracy: 0.8667\n",
            "Epoch 16/20\n",
            "30/30 [==============================] - 1s 24ms/step - loss: 0.0028 - accuracy: 0.9999 - val_loss: 0.7024 - val_accuracy: 0.8649\n",
            "Epoch 17/20\n",
            "30/30 [==============================] - 1s 20ms/step - loss: 0.0052 - accuracy: 0.9991 - val_loss: 0.7260 - val_accuracy: 0.8669\n",
            "Epoch 18/20\n",
            "30/30 [==============================] - 1s 20ms/step - loss: 0.0017 - accuracy: 0.9999 - val_loss: 0.7559 - val_accuracy: 0.8660\n",
            "Epoch 19/20\n",
            "30/30 [==============================] - 1s 21ms/step - loss: 0.0041 - accuracy: 0.9990 - val_loss: 0.7838 - val_accuracy: 0.8658\n",
            "Epoch 20/20\n",
            "30/30 [==============================] - 1s 26ms/step - loss: 0.0010 - accuracy: 0.9999 - val_loss: 0.8138 - val_accuracy: 0.8641\n"
          ]
        }
      ]
    },
    {
      "cell_type": "code",
      "source": [
        "#Model - sequential  -- less complex\n",
        "model2 = models.Sequential()\n",
        "model2.add(layers.Dense(4, activation='relu', input_shape=(10000,)))\n",
        "model2.add(layers.Dense(4, activation='relu'))\n",
        "model2.add(layers.Dense(1, activation='sigmoid'))\n",
        "\n",
        "model2.compile(optimizer='rmsprop',\n",
        "              loss='binary_crossentropy',\n",
        "              metrics='accuracy')\n",
        "\n",
        "history2 = model2.fit(partial_x_train, partial_y_train,\n",
        "                    epochs=20,\n",
        "                    batch_size=512,\n",
        "                    validation_data=(x_val, y_val))"
      ],
      "metadata": {
        "colab": {
          "base_uri": "https://localhost:8080/"
        },
        "id": "5O-bgOCvPWLA",
        "outputId": "5fac603f-b68f-4c3b-cba6-db49cb397d98"
      },
      "execution_count": null,
      "outputs": [
        {
          "output_type": "stream",
          "name": "stdout",
          "text": [
            "Epoch 1/20\n",
            "30/30 [==============================] - 2s 40ms/step - loss: 0.6207 - accuracy: 0.7124 - val_loss: 0.5599 - val_accuracy: 0.8093\n",
            "Epoch 2/20\n",
            "30/30 [==============================] - 1s 20ms/step - loss: 0.4979 - accuracy: 0.8607 - val_loss: 0.4681 - val_accuracy: 0.8683\n",
            "Epoch 3/20\n",
            "30/30 [==============================] - 1s 20ms/step - loss: 0.4041 - accuracy: 0.8949 - val_loss: 0.3950 - val_accuracy: 0.8764\n",
            "Epoch 4/20\n",
            "30/30 [==============================] - 1s 21ms/step - loss: 0.3321 - accuracy: 0.9085 - val_loss: 0.3469 - val_accuracy: 0.8821\n",
            "Epoch 5/20\n",
            "30/30 [==============================] - 1s 21ms/step - loss: 0.2798 - accuracy: 0.9200 - val_loss: 0.3195 - val_accuracy: 0.8823\n",
            "Epoch 6/20\n",
            "30/30 [==============================] - 1s 21ms/step - loss: 0.2417 - accuracy: 0.9273 - val_loss: 0.2970 - val_accuracy: 0.8870\n",
            "Epoch 7/20\n",
            "30/30 [==============================] - 1s 21ms/step - loss: 0.2129 - accuracy: 0.9359 - val_loss: 0.2835 - val_accuracy: 0.8896\n",
            "Epoch 8/20\n",
            "30/30 [==============================] - 1s 20ms/step - loss: 0.1886 - accuracy: 0.9438 - val_loss: 0.2762 - val_accuracy: 0.8903\n",
            "Epoch 9/20\n",
            "30/30 [==============================] - 1s 21ms/step - loss: 0.1687 - accuracy: 0.9483 - val_loss: 0.2732 - val_accuracy: 0.8907\n",
            "Epoch 10/20\n",
            "30/30 [==============================] - 1s 21ms/step - loss: 0.1514 - accuracy: 0.9545 - val_loss: 0.2735 - val_accuracy: 0.8902\n",
            "Epoch 11/20\n",
            "30/30 [==============================] - 1s 21ms/step - loss: 0.1365 - accuracy: 0.9583 - val_loss: 0.2757 - val_accuracy: 0.8890\n",
            "Epoch 12/20\n",
            "30/30 [==============================] - 1s 26ms/step - loss: 0.1237 - accuracy: 0.9632 - val_loss: 0.2831 - val_accuracy: 0.8859\n",
            "Epoch 13/20\n",
            "30/30 [==============================] - 1s 28ms/step - loss: 0.1126 - accuracy: 0.9674 - val_loss: 0.2864 - val_accuracy: 0.8884\n",
            "Epoch 14/20\n",
            "30/30 [==============================] - 1s 24ms/step - loss: 0.1016 - accuracy: 0.9720 - val_loss: 0.2936 - val_accuracy: 0.8860\n",
            "Epoch 15/20\n",
            "30/30 [==============================] - 1s 23ms/step - loss: 0.0921 - accuracy: 0.9741 - val_loss: 0.3034 - val_accuracy: 0.8853\n",
            "Epoch 16/20\n",
            "30/30 [==============================] - 1s 26ms/step - loss: 0.0835 - accuracy: 0.9771 - val_loss: 0.3129 - val_accuracy: 0.8832\n",
            "Epoch 17/20\n",
            "30/30 [==============================] - 1s 27ms/step - loss: 0.0748 - accuracy: 0.9804 - val_loss: 0.3274 - val_accuracy: 0.8835\n",
            "Epoch 18/20\n",
            "30/30 [==============================] - 1s 23ms/step - loss: 0.0672 - accuracy: 0.9828 - val_loss: 0.3389 - val_accuracy: 0.8841\n",
            "Epoch 19/20\n",
            "30/30 [==============================] - 1s 21ms/step - loss: 0.0605 - accuracy: 0.9853 - val_loss: 0.3521 - val_accuracy: 0.8817\n",
            "Epoch 20/20\n",
            "30/30 [==============================] - 1s 21ms/step - loss: 0.0540 - accuracy: 0.9873 - val_loss: 0.3660 - val_accuracy: 0.8791\n"
          ]
        }
      ]
    },
    {
      "cell_type": "code",
      "source": [
        "#results\n",
        "history_dict = history.history\n",
        "loss_values = history_dict['val_loss']\n",
        "loss_values_2 = history2.history['val_loss']\n",
        "\n",
        "epoch = range (1, len(loss_values)+1)\n",
        "\n",
        "plt.plot(epoch, loss_values, 'o', label = 'Bigger - Training')\n",
        "plt.plot(epoch, loss_values_2, '--', label = 'Smal - Trining')\n",
        "plt.legend()\n",
        "plt.show()"
      ],
      "metadata": {
        "colab": {
          "base_uri": "https://localhost:8080/",
          "height": 265
        },
        "id": "zjSvSM-HPpEB",
        "outputId": "3be97e2c-dc34-43b5-c258-35fe9dc48745"
      },
      "execution_count": null,
      "outputs": [
        {
          "output_type": "display_data",
          "data": {
            "text/plain": [
              "<Figure size 432x288 with 1 Axes>"
            ],
            "image/png": "[encoded data removed]"
          },
          "metadata": {
            "needs_background": "light"
          }
        }
      ]
    },
    {
      "cell_type": "markdown",
      "source": [
        "Regularization"
      ],
      "metadata": {
        "id": "pOr49to_QxxC"
      }
    },
    {
      "cell_type": "code",
      "source": [
        "#Model - sequential \n",
        "model3 = models.Sequential()\n",
        "model3.add(layers.Dense(16, activation='relu', input_shape=(10000,),\n",
        "                        kernel_regularizer=regularizers.l2(0.001)))\n",
        "model3.add(layers.Dense(16, activation='relu',\n",
        "                        kernel_regularizer=regularizers.l2(0.001)))\n",
        "model3.add(layers.Dense(1, activation='sigmoid'))\n",
        "\n",
        "model3.compile(optimizer='rmsprop',\n",
        "              loss='binary_crossentropy',\n",
        "              metrics='accuracy')\n",
        "\n",
        "history3 = model3.fit(partial_x_train, partial_y_train,\n",
        "                    epochs=20,\n",
        "                    batch_size=512,\n",
        "                    validation_data=(x_val, y_val))"
      ],
      "metadata": {
        "colab": {
          "base_uri": "https://localhost:8080/"
        },
        "id": "SKIs4c4_QPwK",
        "outputId": "da3f6d93-e963-4f3b-a010-e4a340112bea"
      },
      "execution_count": null,
      "outputs": [
        {
          "output_type": "stream",
          "name": "stdout",
          "text": [
            "Epoch 1/20\n",
            "30/30 [==============================] - 2s 37ms/step - loss: 0.5477 - accuracy: 0.7876 - val_loss: 0.4214 - val_accuracy: 0.8686\n",
            "Epoch 2/20\n",
            "30/30 [==============================] - 1s 20ms/step - loss: 0.3509 - accuracy: 0.9039 - val_loss: 0.3796 - val_accuracy: 0.8643\n",
            "Epoch 3/20\n",
            "30/30 [==============================] - 1s 21ms/step - loss: 0.2821 - accuracy: 0.9208 - val_loss: 0.3374 - val_accuracy: 0.8855\n",
            "Epoch 4/20\n",
            "30/30 [==============================] - 1s 20ms/step - loss: 0.2489 - accuracy: 0.9340 - val_loss: 0.3494 - val_accuracy: 0.8775\n",
            "Epoch 5/20\n",
            "30/30 [==============================] - 1s 21ms/step - loss: 0.2249 - accuracy: 0.9425 - val_loss: 0.3268 - val_accuracy: 0.8877\n",
            "Epoch 6/20\n",
            "30/30 [==============================] - 1s 20ms/step - loss: 0.2098 - accuracy: 0.9473 - val_loss: 0.3341 - val_accuracy: 0.8862\n",
            "Epoch 7/20\n",
            "30/30 [==============================] - 1s 20ms/step - loss: 0.1957 - accuracy: 0.9553 - val_loss: 0.3432 - val_accuracy: 0.8828\n",
            "Epoch 8/20\n",
            "30/30 [==============================] - 1s 21ms/step - loss: 0.1904 - accuracy: 0.9577 - val_loss: 0.3506 - val_accuracy: 0.8823\n",
            "Epoch 9/20\n",
            "30/30 [==============================] - 1s 20ms/step - loss: 0.1818 - accuracy: 0.9603 - val_loss: 0.3786 - val_accuracy: 0.8723\n",
            "Epoch 10/20\n",
            "30/30 [==============================] - 1s 21ms/step - loss: 0.1728 - accuracy: 0.9653 - val_loss: 0.4383 - val_accuracy: 0.8561\n",
            "Epoch 11/20\n",
            "30/30 [==============================] - 1s 20ms/step - loss: 0.1675 - accuracy: 0.9679 - val_loss: 0.3795 - val_accuracy: 0.8795\n",
            "Epoch 12/20\n",
            "30/30 [==============================] - 1s 21ms/step - loss: 0.1660 - accuracy: 0.9651 - val_loss: 0.3846 - val_accuracy: 0.8764\n",
            "Epoch 13/20\n",
            "30/30 [==============================] - 1s 20ms/step - loss: 0.1609 - accuracy: 0.9689 - val_loss: 0.3956 - val_accuracy: 0.8781\n",
            "Epoch 14/20\n",
            "30/30 [==============================] - 1s 20ms/step - loss: 0.1542 - accuracy: 0.9727 - val_loss: 0.4068 - val_accuracy: 0.8711\n",
            "Epoch 15/20\n",
            "30/30 [==============================] - 1s 20ms/step - loss: 0.1577 - accuracy: 0.9689 - val_loss: 0.4067 - val_accuracy: 0.8736\n",
            "Epoch 16/20\n",
            "30/30 [==============================] - 1s 24ms/step - loss: 0.1475 - accuracy: 0.9741 - val_loss: 0.4199 - val_accuracy: 0.8677\n",
            "Epoch 17/20\n",
            "30/30 [==============================] - 1s 20ms/step - loss: 0.1428 - accuracy: 0.9772 - val_loss: 0.4286 - val_accuracy: 0.8739\n",
            "Epoch 18/20\n",
            "30/30 [==============================] - 1s 24ms/step - loss: 0.1408 - accuracy: 0.9768 - val_loss: 0.4407 - val_accuracy: 0.8670\n",
            "Epoch 19/20\n",
            "30/30 [==============================] - 1s 20ms/step - loss: 0.1378 - accuracy: 0.9785 - val_loss: 0.4309 - val_accuracy: 0.8728\n",
            "Epoch 20/20\n",
            "30/30 [==============================] - 1s 20ms/step - loss: 0.1406 - accuracy: 0.9765 - val_loss: 0.4354 - val_accuracy: 0.8738\n"
          ]
        }
      ]
    },
    {
      "cell_type": "code",
      "source": [
        "#results\n",
        "history_dict = history.history\n",
        "loss_values = history_dict['val_loss']\n",
        "loss_values_3 = history3.history['val_loss']\n",
        "\n",
        "epoch = range (1, len(loss_values)+1)\n",
        "\n",
        "plt.plot(epoch, loss_values, 'o', label = 'Original')\n",
        "plt.plot(epoch, loss_values_3, '--', label = 'Reg')\n",
        "plt.legend()\n",
        "plt.show()"
      ],
      "metadata": {
        "colab": {
          "base_uri": "https://localhost:8080/",
          "height": 265
        },
        "id": "ryRTcfogRZBX",
        "outputId": "2cd3e1a9-c9f2-4d6c-d960-25072433fb28"
      },
      "execution_count": null,
      "outputs": [
        {
          "output_type": "display_data",
          "data": {
            "text/plain": [
              "<Figure size 432x288 with 1 Axes>"
            ],
            "image/png": "[encoded data removed]"
          },
          "metadata": {
            "needs_background": "light"
          }
        }
      ]
    },
    {
      "cell_type": "markdown",
      "source": [
        "Dropout"
      ],
      "metadata": {
        "id": "--_iMbw5Sq9v"
      }
    },
    {
      "cell_type": "code",
      "source": [
        "#Model - sequential  -- less complex\n",
        "model4 = models.Sequential()\n",
        "model4.add(layers.Dense(16, activation='relu', input_shape=(10000,)))\n",
        "model4.add(layers.Dropout(0.5))\n",
        "\n",
        "model4.add(layers.Dense(16, activation='relu'))\n",
        "model4.add(layers.Dropout(0.5))\n",
        "\n",
        "model4.add(layers.Dense(1, activation='sigmoid'))\n",
        "\n",
        "model4.compile(optimizer='rmsprop',\n",
        "              loss='binary_crossentropy',\n",
        "              metrics='accuracy')\n",
        "\n",
        "history4 = model4.fit(partial_x_train, partial_y_train,\n",
        "                    epochs=20,\n",
        "                    batch_size=512,\n",
        "                    validation_data=(x_val, y_val))"
      ],
      "metadata": {
        "colab": {
          "base_uri": "https://localhost:8080/"
        },
        "id": "W7FlXKaoRxdo",
        "outputId": "b7f44a41-a43b-466a-c3cb-f269f17a098c"
      },
      "execution_count": null,
      "outputs": [
        {
          "output_type": "stream",
          "name": "stdout",
          "text": [
            "Epoch 1/20\n",
            "30/30 [==============================] - 2s 35ms/step - loss: 0.6715 - accuracy: 0.5621 - val_loss: 0.6051 - val_accuracy: 0.8071\n",
            "Epoch 2/20\n",
            "30/30 [==============================] - 1s 20ms/step - loss: 0.5884 - accuracy: 0.6803 - val_loss: 0.4880 - val_accuracy: 0.8624\n",
            "Epoch 3/20\n",
            "30/30 [==============================] - 1s 27ms/step - loss: 0.5087 - accuracy: 0.7503 - val_loss: 0.4050 - val_accuracy: 0.8773\n",
            "Epoch 4/20\n",
            "30/30 [==============================] - 1s 21ms/step - loss: 0.4455 - accuracy: 0.8084 - val_loss: 0.3525 - val_accuracy: 0.8790\n",
            "Epoch 5/20\n",
            "30/30 [==============================] - 1s 20ms/step - loss: 0.3920 - accuracy: 0.8438 - val_loss: 0.3188 - val_accuracy: 0.8837\n",
            "Epoch 6/20\n",
            "30/30 [==============================] - 1s 23ms/step - loss: 0.3391 - accuracy: 0.8792 - val_loss: 0.2864 - val_accuracy: 0.8893\n",
            "Epoch 7/20\n",
            "30/30 [==============================] - 1s 20ms/step - loss: 0.3017 - accuracy: 0.8989 - val_loss: 0.2834 - val_accuracy: 0.8902\n",
            "Epoch 8/20\n",
            "30/30 [==============================] - 1s 21ms/step - loss: 0.2693 - accuracy: 0.9107 - val_loss: 0.2733 - val_accuracy: 0.8924\n",
            "Epoch 9/20\n",
            "30/30 [==============================] - 1s 20ms/step - loss: 0.2322 - accuracy: 0.9262 - val_loss: 0.2824 - val_accuracy: 0.8921\n",
            "Epoch 10/20\n",
            "30/30 [==============================] - 1s 20ms/step - loss: 0.2090 - accuracy: 0.9345 - val_loss: 0.2891 - val_accuracy: 0.8913\n",
            "Epoch 11/20\n",
            "30/30 [==============================] - 1s 20ms/step - loss: 0.1824 - accuracy: 0.9440 - val_loss: 0.3094 - val_accuracy: 0.8912\n",
            "Epoch 12/20\n",
            "30/30 [==============================] - 1s 26ms/step - loss: 0.1643 - accuracy: 0.9505 - val_loss: 0.3223 - val_accuracy: 0.8907\n",
            "Epoch 13/20\n",
            "30/30 [==============================] - 1s 27ms/step - loss: 0.1448 - accuracy: 0.9559 - val_loss: 0.3369 - val_accuracy: 0.8903\n",
            "Epoch 14/20\n",
            "30/30 [==============================] - 1s 20ms/step - loss: 0.1355 - accuracy: 0.9607 - val_loss: 0.3653 - val_accuracy: 0.8884\n",
            "Epoch 15/20\n",
            "30/30 [==============================] - 1s 20ms/step - loss: 0.1230 - accuracy: 0.9637 - val_loss: 0.3815 - val_accuracy: 0.8836\n",
            "Epoch 16/20\n",
            "30/30 [==============================] - 1s 20ms/step - loss: 0.1126 - accuracy: 0.9659 - val_loss: 0.4186 - val_accuracy: 0.8893\n",
            "Epoch 17/20\n",
            "30/30 [==============================] - 1s 22ms/step - loss: 0.1079 - accuracy: 0.9669 - val_loss: 0.4305 - val_accuracy: 0.8878\n",
            "Epoch 18/20\n",
            "30/30 [==============================] - 1s 23ms/step - loss: 0.0971 - accuracy: 0.9695 - val_loss: 0.4480 - val_accuracy: 0.8873\n",
            "Epoch 19/20\n",
            "30/30 [==============================] - 1s 26ms/step - loss: 0.0858 - accuracy: 0.9736 - val_loss: 0.5229 - val_accuracy: 0.8857\n",
            "Epoch 20/20\n",
            "30/30 [==============================] - 1s 27ms/step - loss: 0.0890 - accuracy: 0.9741 - val_loss: 0.5197 - val_accuracy: 0.8868\n"
          ]
        }
      ]
    },
    {
      "cell_type": "code",
      "source": [
        "#results\n",
        "history_dict = history.history\n",
        "loss_values = history_dict['val_loss']\n",
        "loss_values_4 = history4.history['val_loss']\n",
        "\n",
        "epoch = range (1, len(loss_values)+1)\n",
        "\n",
        "plt.plot(epoch, loss_values, 'o', label = 'Original')\n",
        "plt.plot(epoch, loss_values_4, '--', label = 'Dropout')\n",
        "plt.legend()\n",
        "plt.show()"
      ],
      "metadata": {
        "colab": {
          "base_uri": "https://localhost:8080/",
          "height": 265
        },
        "id": "-jenIAT6TIhl",
        "outputId": "dcd23bb3-ac9f-45db-ef3e-0436ca9c10ec"
      },
      "execution_count": null,
      "outputs": [
        {
          "output_type": "display_data",
          "data": {
            "text/plain": [
              "<Figure size 432x288 with 1 Axes>"
            ],
            "image/png": "[encoded data removed]"
          },
          "metadata": {
            "needs_background": "light"
          }
        }
      ]
    },
    {
      "cell_type": "markdown",
      "source": [
        "Adding all the info"
      ],
      "metadata": {
        "id": "Owiesy-VTeIL"
      }
    },
    {
      "cell_type": "code",
      "source": [
        "#Model - sequential  -- less complex\n",
        "model5 = models.Sequential()\n",
        "model5.add(layers.Dense(4, activation='relu', input_shape=(10000,),\n",
        "                        kernel_regularizer=regularizers.l2(0.001)))\n",
        "model4.add(layers.Dropout(0.5))\n",
        "\n",
        "model5.add(layers.Dense(4, activation='relu',\n",
        "           kernel_regularizer=regularizers.l1(0.001)))\n",
        "model5.add(layers.Dropout(0.5))\n",
        "\n",
        "model5.add(layers.Dense(1, activation='sigmoid'))\n",
        "\n",
        "model5.compile(optimizer='rmsprop',\n",
        "              loss='binary_crossentropy',\n",
        "              metrics='accuracy')\n",
        "\n",
        "history5 = model5.fit(partial_x_train, partial_y_train,\n",
        "                    epochs=20,\n",
        "                    batch_size=512,\n",
        "                    validation_data=(x_val, y_val))"
      ],
      "metadata": {
        "colab": {
          "base_uri": "https://localhost:8080/"
        },
        "id": "_AXNXykNTd1S",
        "outputId": "87d7ab07-9812-4e05-e5ca-d50251523e3f"
      },
      "execution_count": null,
      "outputs": [
        {
          "output_type": "stream",
          "name": "stdout",
          "text": [
            "Epoch 1/20\n",
            "30/30 [==============================] - 2s 47ms/step - loss: 0.6843 - accuracy: 0.5855 - val_loss: 0.6341 - val_accuracy: 0.6962\n",
            "Epoch 2/20\n",
            "30/30 [==============================] - 1s 20ms/step - loss: 0.6227 - accuracy: 0.6378 - val_loss: 0.5687 - val_accuracy: 0.8319\n",
            "Epoch 3/20\n",
            "30/30 [==============================] - 1s 20ms/step - loss: 0.5728 - accuracy: 0.6925 - val_loss: 0.5170 - val_accuracy: 0.8474\n",
            "Epoch 4/20\n",
            "30/30 [==============================] - 1s 21ms/step - loss: 0.5392 - accuracy: 0.7455 - val_loss: 0.4792 - val_accuracy: 0.8627\n",
            "Epoch 5/20\n",
            "30/30 [==============================] - 1s 20ms/step - loss: 0.5136 - accuracy: 0.7812 - val_loss: 0.4467 - val_accuracy: 0.8814\n",
            "Epoch 6/20\n",
            "30/30 [==============================] - 1s 20ms/step - loss: 0.4990 - accuracy: 0.7899 - val_loss: 0.4215 - val_accuracy: 0.8861\n",
            "Epoch 7/20\n",
            "30/30 [==============================] - 1s 21ms/step - loss: 0.4828 - accuracy: 0.8080 - val_loss: 0.4120 - val_accuracy: 0.8784\n",
            "Epoch 8/20\n",
            "30/30 [==============================] - 1s 20ms/step - loss: 0.4697 - accuracy: 0.8195 - val_loss: 0.3956 - val_accuracy: 0.8867\n",
            "Epoch 9/20\n",
            "30/30 [==============================] - 1s 21ms/step - loss: 0.4527 - accuracy: 0.8263 - val_loss: 0.3926 - val_accuracy: 0.8807\n",
            "Epoch 10/20\n",
            "30/30 [==============================] - 1s 21ms/step - loss: 0.4477 - accuracy: 0.8311 - val_loss: 0.3967 - val_accuracy: 0.8743\n",
            "Epoch 11/20\n",
            "30/30 [==============================] - 1s 20ms/step - loss: 0.4394 - accuracy: 0.8365 - val_loss: 0.3833 - val_accuracy: 0.8818\n",
            "Epoch 12/20\n",
            "30/30 [==============================] - 1s 20ms/step - loss: 0.4339 - accuracy: 0.8355 - val_loss: 0.3893 - val_accuracy: 0.8758\n",
            "Epoch 13/20\n",
            "30/30 [==============================] - 1s 21ms/step - loss: 0.4235 - accuracy: 0.8410 - val_loss: 0.3660 - val_accuracy: 0.8842\n",
            "Epoch 14/20\n",
            "30/30 [==============================] - 1s 21ms/step - loss: 0.4188 - accuracy: 0.8430 - val_loss: 0.3672 - val_accuracy: 0.8833\n",
            "Epoch 15/20\n",
            "30/30 [==============================] - 1s 20ms/step - loss: 0.4100 - accuracy: 0.8452 - val_loss: 0.3667 - val_accuracy: 0.8825\n",
            "Epoch 16/20\n",
            "30/30 [==============================] - 1s 20ms/step - loss: 0.4140 - accuracy: 0.8446 - val_loss: 0.3664 - val_accuracy: 0.8818\n",
            "Epoch 17/20\n",
            "30/30 [==============================] - 1s 21ms/step - loss: 0.3997 - accuracy: 0.8529 - val_loss: 0.3674 - val_accuracy: 0.8793\n",
            "Epoch 18/20\n",
            "30/30 [==============================] - 1s 20ms/step - loss: 0.3992 - accuracy: 0.8503 - val_loss: 0.3597 - val_accuracy: 0.8792\n",
            "Epoch 19/20\n",
            "30/30 [==============================] - 1s 20ms/step - loss: 0.3903 - accuracy: 0.8557 - val_loss: 0.3831 - val_accuracy: 0.8733\n",
            "Epoch 20/20\n",
            "30/30 [==============================] - 1s 20ms/step - loss: 0.3804 - accuracy: 0.8635 - val_loss: 0.3693 - val_accuracy: 0.8779\n"
          ]
        }
      ]
    },
    {
      "cell_type": "code",
      "source": [
        "#results\n",
        "history_dict = history.history\n",
        "loss_values = history_dict['val_loss']\n",
        "loss_values_5 = history5.history['val_loss']\n",
        "\n",
        "epoch = range (1, len(loss_values)+1)\n",
        "\n",
        "plt.plot(epoch, loss_values, 'o', label = 'Original')\n",
        "plt.plot(epoch, loss_values_5, '--', label = 'Reducing overfittin')\n",
        "plt.legend()\n",
        "plt.show()"
      ],
      "metadata": {
        "colab": {
          "base_uri": "https://localhost:8080/",
          "height": 265
        },
        "id": "EySPf-nVTOFE",
        "outputId": "61760f2c-6abf-4345-fe73-e518c7a3bf4b"
      },
      "execution_count": null,
      "outputs": [
        {
          "output_type": "display_data",
          "data": {
            "text/plain": [
              "<Figure size 432x288 with 1 Axes>"
            ],
            "image/png": "[encoded data removed]"
          },
          "metadata": {
            "needs_background": "light"
          }
        }
      ]
    },
    {
      "cell_type": "code",
      "source": [],
      "metadata": {
        "id": "NAEn7EJeT8h0"
      },
      "execution_count": null,
      "outputs": []
    }
  ]
}